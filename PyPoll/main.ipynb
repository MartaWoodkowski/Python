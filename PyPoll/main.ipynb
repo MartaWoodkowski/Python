{
 "cells": [
  {
   "cell_type": "code",
   "execution_count": 1,
   "metadata": {},
   "outputs": [],
   "source": [
    "import os\n",
    "import csv"
   ]
  },
  {
   "cell_type": "code",
   "execution_count": 2,
   "metadata": {},
   "outputs": [
    {
     "data": {
      "text/plain": [
       "'Resources\\\\election_data.csv'"
      ]
     },
     "execution_count": 2,
     "metadata": {},
     "output_type": "execute_result"
    }
   ],
   "source": [
    "election_data_path = os.path.join(\"Resources\", \"election_data.csv\")\n",
    "election_data_path"
   ]
  },
  {
   "cell_type": "code",
   "execution_count": 3,
   "metadata": {},
   "outputs": [
    {
     "name": "stdout",
     "output_type": "stream",
     "text": [
      "Election Results\n",
      "-----------------------------\n",
      "Total Votes: 3521001\n",
      "-----------------------------\n",
      "Khan: 63.000% (2218231)\n",
      "Correy: 20.000% (704200)\n",
      "O'Tooley: 3.000% (105630)\n",
      "Li: 14.000% (492940)\n",
      "-----------------------------\n",
      "Winner: Khan\n",
      "-----------------------------\n"
     ]
    }
   ],
   "source": [
    "Total_Votes = 0\n",
    "Candidate_List = []\n",
    "Votes_Per_Candidate = []\n",
    "Percentage_Vote_Per_Candidate = []\n",
    "\n",
    "#Function to extract a list of unique names from the 'Candidate' column\n",
    "def Unique_Candidate_List(names):\n",
    "\n",
    "    Unique_Candidate_List = []\n",
    "\n",
    "    Unique_Names = set(names)\n",
    "\n",
    "    for name in Unique_Names:\n",
    "        Unique_Candidate_List.append(name)\n",
    "\n",
    "    return Unique_Candidate_List\n",
    "\n",
    "\n",
    "with open(election_data_path) as csvfile:\n",
    "    csv_reader = csv.reader(csvfile, delimiter=\",\")\n",
    "    \n",
    "    csv_header = next(csv_reader, None)\n",
    "    \n",
    "    for row in csv_reader:\n",
    "        Total_Votes += 1   #Total number of votes cast\n",
    "        Candidate_List.append(row[2])   #List of candidate-per-vote row by row\n",
    "       \n",
    "    Candidates = Unique_Candidate_List(Candidate_List)   #used function above to get unique candidate list\n",
    "    \n",
    "    #Vote count per candidate\n",
    "    for i in range(len(Candidates)):\n",
    "        count = 0\n",
    "        for j in range(len(Candidate_List)):\n",
    "            if Candidates[i] == Candidate_List[j]:\n",
    "                count += 1\n",
    "         \n",
    "        Votes_Per_Candidate.append(count)   #store votes count per candidate\n",
    "\n",
    "     #Calculating percentage of votes counted per candidate (based on the number of votes each candidate received)\n",
    "    for x in range(len(Votes_Per_Candidate)):\n",
    "        Percentage_Vote_Per_Candidate.append(Votes_Per_Candidate[x]/Total_Votes*100)\n",
    "    \n",
    "    #Identifying the candidate who received majority of votes\n",
    "    Majority_Of_Votes = max (Votes_Per_Candidate)\n",
    "    for z in range(len(Votes_Per_Candidate)):   #once found the Max amount of votes, I match this number to the right candidate name\n",
    "        if Majority_Of_Votes == Votes_Per_Candidate[z]:\n",
    "            Winner = Candidates[z]\n",
    "    \n",
    "    \n",
    "    #Creating and Writing my budget_data_results.txt file in the analysis folder:\n",
    "    output_path = os.path.join (\".\",\"analysis\", \"election_data_results.txt\")\n",
    "    w = open (output_path, \"w\")\n",
    "\n",
    "    \n",
    "    print(\"Election Results\")\n",
    "    w.write(\"Election Results\\n\") #writing (the same line I printed) to election_data_results.txt & moving to the next line\n",
    "        \n",
    "    print(\"-----------------------------\")\n",
    "    w.write(\"-----------------------------\\n\") #writing (the same line I printed) to election_data_results.txt & moving to the next line\n",
    "        \n",
    "    text = \"Total Votes: \" + str(Total_Votes)\n",
    "    print(text)\n",
    "    w.write(text+\"\\n\") #writing (the same line I printed) to election_data_results.txt & moving to the next line\n",
    "    \n",
    "    print(\"-----------------------------\")\n",
    "    w.write(\"-----------------------------\\n\") #writing (the same line I printed) to election_data_results.txt & moving to the next line\n",
    "    \n",
    "    for y in range(len(Candidates)):\n",
    "        text = Candidates[y] + \": \" + f'{Percentage_Vote_Per_Candidate[y]:.3f}' + \"% (\"+ str(Votes_Per_Candidate[y]) +\")\"\n",
    "        print(text)\n",
    "        w.write(text+\"\\n\") #writing (the same line I printed) to election_data_results.txt & moving to the next line\n",
    "            \n",
    "    print(\"-----------------------------\")\n",
    "    w.write(\"-----------------------------\\n\") #writing (the same line I printed) to election_data_results.txt & moving to the next line\n",
    "    \n",
    "    text = \"Winner: \" + Winner\n",
    "    print(text)\n",
    "    w.write(text+\"\\n\") #writing (the same line I printed) to election_data_results.txt & moving to the next line\n",
    "    \n",
    "    print(\"-----------------------------\")\n",
    "    w.write(\"-----------------------------\\n\") #writing (the same line I printed) to election_data_results.txt & moving to the next line\n",
    "    \n",
    "    w.close() #stop writing to budget_data_results.txt"
   ]
  },
  {
   "cell_type": "code",
   "execution_count": null,
   "metadata": {},
   "outputs": [],
   "source": []
  }
 ],
 "metadata": {
  "kernelspec": {
   "display_name": "Python 3",
   "language": "python",
   "name": "python3"
  },
  "language_info": {
   "codemirror_mode": {
    "name": "ipython",
    "version": 3
   },
   "file_extension": ".py",
   "mimetype": "text/x-python",
   "name": "python",
   "nbconvert_exporter": "python",
   "pygments_lexer": "ipython3",
   "version": "3.8.5"
  }
 },
 "nbformat": 4,
 "nbformat_minor": 4
}
