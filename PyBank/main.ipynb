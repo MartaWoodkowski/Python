{
 "cells": [
  {
   "cell_type": "code",
   "execution_count": 94,
   "metadata": {},
   "outputs": [],
   "source": [
    "import os\n",
    "import csv"
   ]
  },
  {
   "cell_type": "code",
   "execution_count": 95,
   "metadata": {},
   "outputs": [
    {
     "data": {
      "text/plain": [
       "'.\\\\Resources\\\\budget_data.csv'"
      ]
     },
     "execution_count": 95,
     "metadata": {},
     "output_type": "execute_result"
    }
   ],
   "source": [
    "budget_data_path = os.path.join(\".\", \"Resources\", \"budget_data.csv\")\n",
    "budget_data_path"
   ]
  },
  {
   "cell_type": "code",
   "execution_count": 97,
   "metadata": {},
   "outputs": [
    {
     "name": "stdout",
     "output_type": "stream",
     "text": [
      "Financial Analysis\n",
      "--------------------------------------------------\n",
      "Total Months: 86\n",
      "Total: $38382578\n",
      "Average Change: $-2315.12\n",
      "Greatest Increase in Profits: Feb-2012 ($1926159)\n",
      "Greatest Decrease in Profits: Sep-2013 ($-2196167)\n"
     ]
    }
   ],
   "source": [
    "Total_Months = 0\n",
    "Total_Amount = 0\n",
    "Profit_Loss_Data = []\n",
    "Profit_Loss_Change = []\n",
    "Date_Recorded = []\n",
    "\n",
    "with open(budget_data_path) as csvfile:\n",
    "    csv_reader = csv.reader(csvfile, delimiter=\",\")\n",
    "    \n",
    "    csv_header = next(csv_reader, None)\n",
    "    \n",
    "    for row in csv_reader:\n",
    "        Total_Months += 1   #Total Months\n",
    "        Total_Amount += int(row[1])   #Total of profit/loss\n",
    "        Profit_Loss_Data.append(int(row[1]))   #add entry amounts from 'Profit/Loss' column to the Profit_Loss_Data list\n",
    "        Date_Recorded.append(row[0])   #add entry dates from 'Date' column to the Date_Recorded list\n",
    "    \n",
    "    #Average Change calculation\n",
    "    for i in range(len(Profit_Loss_Data)-1):   #reason of 'len()-1' because the length of Average_Change list is one number shorter than Profit_Loss_Data list\n",
    "        Profit_Loss_Change.append(Profit_Loss_Data[i+1]-Profit_Loss_Data[i])   #get profit/loss from the row-ahead and subtract the profit/loss from the current-row to get the profit/loss change\n",
    "    Average_Change = sum(Profit_Loss_Change)/len(Profit_Loss_Change)\n",
    "  \n",
    "    #Greatest Increase calculation\n",
    "    Greatest_Increase = max(Profit_Loss_Change)\n",
    "    for i in range(len(Profit_Loss_Change)):\n",
    "        if Greatest_Increase == Profit_Loss_Change [i]:\n",
    "            Greatest_Increase_Date = Date_Recorded[i+1]   #[i+1] to match the correct date (when I calculated average changes my list was shifted by one index)\n",
    "    \n",
    "    #Greatest Decrease Calculation\n",
    "    Greatest_Decrease = min(Profit_Loss_Change)\n",
    "    for i in range(len(Profit_Loss_Change)):\n",
    "        if Greatest_Decrease == Profit_Loss_Change [i]:\n",
    "            Greatest_Decrease_Date = Date_Recorded[i+1]   #[i+1] to match the correct date (when I calculated average changes my list was shifted by one index)\n",
    "    \n",
    "    \n",
    "    #Creating and Writing my budget_data_results.txt file in the analysis folder:\n",
    "    output_path = os.path.join (\".\",\"analysis\", \"budget_data_results.txt\")\n",
    "    w = open (output_path, \"w\")\n",
    "\n",
    "    print(\"Financial Analysis\")\n",
    "    w.write(\"Financial Analysis\\n\") #writing (the same line I printed) to budget_data_results.txt & moving to the next line\n",
    "    \n",
    "    print(\"--------------------------------------------------\")\n",
    "    w.write(\"--------------------------------------------------\\n\") #writing (the same line I printed) to budget_data_results.txt & moving to the next line\n",
    "    \n",
    "    text = \"Total Months: \"+str(Total_Months)\n",
    "    print(text)\n",
    "    w.write(text+\"\\n\") #writing (the same line I printed) to budget_data_results.txt  & moving to the next line\n",
    "            \n",
    "    text = \"Total: $\" + str(Total_Amount)\n",
    "    print(text)\n",
    "    w.write(text+\"\\n\") #writing (the same line I printed) to budget_data_results.txt  & moving to the next line\n",
    "    \n",
    "    text = \"Average Change: $\" + str(round(Average_Change,2))\n",
    "    print(text)\n",
    "    w.write(text+\"\\n\") #writing (the same line I printed) to budget_data_results.txt  & moving to the next line\n",
    "    \n",
    "    text = \"Greatest Increase in Profits: \" + Greatest_Increase_Date + \" ($\"+ str(Greatest_Increase)+\")\"\n",
    "    print(text)\n",
    "    w.write(text+\"\\n\") #writing (the same line I printed) to budget_data_results.txt & moving to the next line\n",
    "    \n",
    "    text = \"Greatest Decrease in Profits: \" + Greatest_Decrease_Date + \" ($\"+ str(Greatest_Decrease)+\")\"\n",
    "    print(text)\n",
    "    w.write(text) #writing (the same line I printed) to budget_data_results.txt \n",
    "   \n",
    "    w.close() #stop writing to budget_data_results.txt\n"
   ]
  }
 ],
 "metadata": {
  "kernelspec": {
   "display_name": "Python 3",
   "language": "python",
   "name": "python3"
  },
  "language_info": {
   "codemirror_mode": {
    "name": "ipython",
    "version": 3
   },
   "file_extension": ".py",
   "mimetype": "text/x-python",
   "name": "python",
   "nbconvert_exporter": "python",
   "pygments_lexer": "ipython3",
   "version": "3.8.5"
  }
 },
 "nbformat": 4,
 "nbformat_minor": 4
}
